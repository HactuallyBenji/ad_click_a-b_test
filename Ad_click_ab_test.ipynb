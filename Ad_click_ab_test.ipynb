{
 "cells": [
  {
   "cell_type": "code",
   "execution_count": 1,
   "id": "70007672-151d-4c4a-928f-5aea5797edff",
   "metadata": {},
   "outputs": [],
   "source": [
    "import numpy as np\n",
    "import pandas as pd"
   ]
  },
  {
   "cell_type": "code",
   "execution_count": 3,
   "metadata": {},
   "outputs": [
    {
     "name": "stdout",
     "output_type": "stream",
     "text": [
      "                                user_id utm_source           day  \\\n",
      "0  008b7c6c-7272-471e-b90e-930d548bd8d7     google  6 - Saturday   \n",
      "1  009abb94-5e14-4b6c-bb1c-4f4df7aa7557   facebook    7 - Sunday   \n",
      "2  00f5d532-ed58-4570-b6d2-768df5f41aed    twitter   2 - Tuesday   \n",
      "3  011adc64-0f44-4fd9-a0bb-f1506d2ad439     google   2 - Tuesday   \n",
      "4  012137e6-7ae7-4649-af68-205b4702169c   facebook    7 - Sunday   \n",
      "\n",
      "  ad_click_timestamp experimental_group  \n",
      "0               7:18                  A  \n",
      "1                NaN                  B  \n",
      "2                NaN                  A  \n",
      "3                NaN                  B  \n",
      "4                NaN                  B  \n"
     ]
    }
   ],
   "source": [
    "ad_clicks = pd.read_csv('ad_clicks.csv')\n",
    "\n",
    "print(ad_clicks.head())"
   ]
  },
  {
   "cell_type": "code",
   "execution_count": 4,
   "metadata": {},
   "outputs": [
    {
     "name": "stdout",
     "output_type": "stream",
     "text": [
      "  utm_source  user_id\n",
      "0      email      255\n",
      "1   facebook      504\n",
      "2     google      680\n",
      "3    twitter      215\n"
     ]
    }
   ],
   "source": [
    "most_viewed_platform = ad_clicks.groupby('utm_source').user_id.count().reset_index()\n",
    "\n",
    "print(most_viewed_platform)"
   ]
  },
  {
   "cell_type": "code",
   "execution_count": 5,
   "metadata": {},
   "outputs": [
    {
     "name": "stdout",
     "output_type": "stream",
     "text": [
      "                                user_id utm_source           day  \\\n",
      "0  008b7c6c-7272-471e-b90e-930d548bd8d7     google  6 - Saturday   \n",
      "1  009abb94-5e14-4b6c-bb1c-4f4df7aa7557   facebook    7 - Sunday   \n",
      "2  00f5d532-ed58-4570-b6d2-768df5f41aed    twitter   2 - Tuesday   \n",
      "3  011adc64-0f44-4fd9-a0bb-f1506d2ad439     google   2 - Tuesday   \n",
      "4  012137e6-7ae7-4649-af68-205b4702169c   facebook    7 - Sunday   \n",
      "\n",
      "  ad_click_timestamp experimental_group  is_click  \n",
      "0               7:18                  A      True  \n",
      "1                NaN                  B     False  \n",
      "2                NaN                  A     False  \n",
      "3                NaN                  B     False  \n",
      "4                NaN                  B     False  \n"
     ]
    }
   ],
   "source": [
    "ad_clicks['is_click'] = ~ad_clicks.ad_click_timestamp.isnull()\n",
    "print(ad_clicks.head())"
   ]
  },
  {
   "cell_type": "code",
   "execution_count": 7,
   "metadata": {},
   "outputs": [
    {
     "name": "stdout",
     "output_type": "stream",
     "text": [
      "  utm_source  is_click  user_id\n",
      "0      email     False      175\n",
      "1      email      True       80\n",
      "2   facebook     False      324\n",
      "3   facebook      True      180\n",
      "4     google     False      441\n",
      "5     google      True      239\n",
      "6    twitter     False      149\n",
      "7    twitter      True       66\n"
     ]
    }
   ],
   "source": [
    "clicks_by_source = ad_clicks.groupby(['utm_source', 'is_click']).user_id.count().reset_index()\n",
    "print(clicks_by_source)"
   ]
  },
  {
   "cell_type": "code",
   "execution_count": 8,
   "metadata": {},
   "outputs": [
    {
     "name": "stdout",
     "output_type": "stream",
     "text": [
      "is_click utm_source  False  True\n",
      "0             email    175    80\n",
      "1          facebook    324   180\n",
      "2            google    441   239\n",
      "3           twitter    149    66\n"
     ]
    }
   ],
   "source": [
    "clicks_pivot = clicks_by_source.pivot(\n",
    "  columns='is_click',\n",
    "  index='utm_source',\n",
    "  values='user_id').reset_index()\n",
    "print(clicks_pivot)"
   ]
  },
  {
   "cell_type": "code",
   "execution_count": 9,
   "metadata": {},
   "outputs": [
    {
     "name": "stdout",
     "output_type": "stream",
     "text": [
      "is_click utm_source  False  True  percent_clicked\n",
      "0             email    175    80         0.313725\n",
      "1          facebook    324   180         0.357143\n",
      "2            google    441   239         0.351471\n",
      "3           twitter    149    66         0.306977\n"
     ]
    }
   ],
   "source": [
    "clicks_pivot['percent_clicked'] = clicks_pivot[True] / (clicks_pivot[True] + clicks_pivot[False])\n",
    "print(clicks_pivot)"
   ]
  },
  {
   "cell_type": "code",
   "execution_count": 10,
   "metadata": {},
   "outputs": [
    {
     "name": "stdout",
     "output_type": "stream",
     "text": [
      "  experimental_group  user_id\n",
      "0                  A      827\n",
      "1                  B      827\n"
     ]
    }
   ],
   "source": [
    "count_for_group = ad_clicks.groupby('experimental_group').user_id.count().reset_index()\n",
    "print(count_for_group)"
   ]
  },
  {
   "cell_type": "code",
   "execution_count": 11,
   "metadata": {},
   "outputs": [
    {
     "name": "stdout",
     "output_type": "stream",
     "text": [
      "  experimental_group  is_click  user_id\n",
      "0                  A     False      517\n",
      "1                  A      True      310\n",
      "2                  B     False      572\n",
      "3                  B      True      255\n"
     ]
    }
   ],
   "source": [
    "number_clicked = ad_clicks.groupby(['experimental_group', 'is_click']).user_id.count().reset_index()\n",
    "print(number_clicked)"
   ]
  },
  {
   "cell_type": "code",
   "execution_count": 12,
   "metadata": {},
   "outputs": [
    {
     "name": "stdout",
     "output_type": "stream",
     "text": [
      "is_click experimental_group  False  True\n",
      "0                         A    517   310\n",
      "1                         B    572   255\n"
     ]
    }
   ],
   "source": [
    "number_clicked_pivot = number_clicked.pivot(\n",
    "  columns='is_click',\n",
    "  index='experimental_group',\n",
    "  values='user_id').reset_index()\n",
    "print(number_clicked_pivot)"
   ]
  },
  {
   "cell_type": "code",
   "execution_count": 13,
   "metadata": {},
   "outputs": [
    {
     "name": "stdout",
     "output_type": "stream",
     "text": [
      "is_click experimental_group  False  True  percentage_clicked\n",
      "0                         A    517   310            0.374849\n",
      "1                         B    572   255            0.308343\n"
     ]
    }
   ],
   "source": [
    "number_clicked_pivot['percentage_clicked'] = number_clicked_pivot[True] / (number_clicked_pivot[True] + number_clicked_pivot[False])\n",
    "print(number_clicked_pivot)"
   ]
  },
  {
   "cell_type": "code",
   "execution_count": 14,
   "metadata": {},
   "outputs": [
    {
     "name": "stdout",
     "output_type": "stream",
     "text": [
      "                                user_id utm_source            day  \\\n",
      "0  008b7c6c-7272-471e-b90e-930d548bd8d7     google   6 - Saturday   \n",
      "2  00f5d532-ed58-4570-b6d2-768df5f41aed    twitter    2 - Tuesday   \n",
      "5  013b0072-7b72-40e7-b698-98b4d0c9967f   facebook     1 - Monday   \n",
      "6  0153d85b-7660-4c39-92eb-1e1acd023280     google   4 - Thursday   \n",
      "7  01555297-d6e6-49ae-aeba-1b196fdbb09f     google  3 - Wednesday   \n",
      "\n",
      "  ad_click_timestamp experimental_group  is_click  \n",
      "0               7:18                  A      True  \n",
      "2                NaN                  A     False  \n",
      "5                NaN                  A     False  \n",
      "6                NaN                  A     False  \n",
      "7                NaN                  A     False  \n",
      "                                 user_id utm_source            day  \\\n",
      "1   009abb94-5e14-4b6c-bb1c-4f4df7aa7557   facebook     7 - Sunday   \n",
      "3   011adc64-0f44-4fd9-a0bb-f1506d2ad439     google    2 - Tuesday   \n",
      "4   012137e6-7ae7-4649-af68-205b4702169c   facebook     7 - Sunday   \n",
      "9   01a210c3-fde0-4e6f-8efd-4f0e38730ae6      email    2 - Tuesday   \n",
      "10  01adb2e7-f711-4ae4-a7c6-29f48457eea1     google  3 - Wednesday   \n",
      "\n",
      "   ad_click_timestamp experimental_group  is_click  \n",
      "1                 NaN                  B     False  \n",
      "3                 NaN                  B     False  \n",
      "4                 NaN                  B     False  \n",
      "9               15:21                  B      True  \n",
      "10                NaN                  B     False  \n"
     ]
    }
   ],
   "source": [
    "a_clicks = ad_clicks[ad_clicks.experimental_group == 'A']\n",
    "b_clicks = ad_clicks[ad_clicks.experimental_group == 'B']\n",
    "print(a_clicks.head())\n",
    "print(b_clicks.head())"
   ]
  },
  {
   "cell_type": "code",
   "execution_count": 15,
   "metadata": {},
   "outputs": [
    {
     "name": "stdout",
     "output_type": "stream",
     "text": [
      "    is_click            day  user_id\n",
      "0      False     1 - Monday       70\n",
      "1      False    2 - Tuesday       76\n",
      "2      False  3 - Wednesday       86\n",
      "3      False   4 - Thursday       69\n",
      "4      False     5 - Friday       77\n",
      "5      False   6 - Saturday       73\n",
      "6      False     7 - Sunday       66\n",
      "7       True     1 - Monday       43\n",
      "8       True    2 - Tuesday       43\n",
      "9       True  3 - Wednesday       38\n",
      "10      True   4 - Thursday       47\n",
      "11      True     5 - Friday       51\n",
      "12      True   6 - Saturday       45\n",
      "13      True     7 - Sunday       43\n",
      "    is_click            day  user_id\n",
      "0      False     1 - Monday       81\n",
      "1      False    2 - Tuesday       74\n",
      "2      False  3 - Wednesday       89\n",
      "3      False   4 - Thursday       87\n",
      "4      False     5 - Friday       90\n",
      "5      False   6 - Saturday       76\n",
      "6      False     7 - Sunday       75\n",
      "7       True     1 - Monday       32\n",
      "8       True    2 - Tuesday       45\n",
      "9       True  3 - Wednesday       35\n",
      "10      True   4 - Thursday       29\n",
      "11      True     5 - Friday       38\n",
      "12      True   6 - Saturday       42\n",
      "13      True     7 - Sunday       34\n"
     ]
    }
   ],
   "source": [
    "a_clicks_by_day = a_clicks.groupby(['is_click', 'day']).user_id.count().reset_index()\n",
    "print(a_clicks_by_day)\n",
    "\n",
    "b_clicks_by_day = b_clicks.groupby(['is_click', 'day']).user_id.count().reset_index()\n",
    "print(b_clicks_by_day)"
   ]
  },
  {
   "cell_type": "code",
   "execution_count": 16,
   "metadata": {},
   "outputs": [
    {
     "name": "stdout",
     "output_type": "stream",
     "text": [
      "is_click            day  False  True  percentage_clicked\n",
      "0            1 - Monday     70    43            0.380531\n",
      "1           2 - Tuesday     76    43            0.361345\n",
      "2         3 - Wednesday     86    38            0.306452\n",
      "3          4 - Thursday     69    47            0.405172\n",
      "4            5 - Friday     77    51            0.398438\n",
      "5          6 - Saturday     73    45            0.381356\n",
      "6            7 - Sunday     66    43            0.394495\n"
     ]
    }
   ],
   "source": [
    "a_clicks_day_pivot = a_clicks_by_day.pivot(\n",
    "  columns='is_click',\n",
    "  index='day',\n",
    "  values='user_id').reset_index()\n",
    "\n",
    "a_clicks_day_pivot['percentage_clicked'] = a_clicks_day_pivot[True] / (a_clicks_day_pivot[False] + a_clicks_day_pivot[True])\n",
    "\n",
    "print(a_clicks_day_pivot)"
   ]
  },
  {
   "cell_type": "code",
   "execution_count": 17,
   "metadata": {},
   "outputs": [
    {
     "name": "stdout",
     "output_type": "stream",
     "text": [
      "is_click            day  False  True  percentage_clicked\n",
      "0            1 - Monday     81    32            0.283186\n",
      "1           2 - Tuesday     74    45            0.378151\n",
      "2         3 - Wednesday     89    35            0.282258\n",
      "3          4 - Thursday     87    29            0.250000\n",
      "4            5 - Friday     90    38            0.296875\n",
      "5          6 - Saturday     76    42            0.355932\n",
      "6            7 - Sunday     75    34            0.311927\n"
     ]
    }
   ],
   "source": [
    "b_clicks_day_pivot = b_clicks_by_day.pivot(\n",
    "  columns='is_click',\n",
    "  index='day',\n",
    "  values='user_id').reset_index()\n",
    "\n",
    "b_clicks_day_pivot['percentage_clicked'] = b_clicks_day_pivot[True] / (b_clicks_day_pivot[True] + b_clicks_day_pivot[False])\n",
    "\n",
    "print(b_clicks_day_pivot)"
   ]
  },
  {
   "cell_type": "code",
   "execution_count": 19,
   "metadata": {},
   "outputs": [
    {
     "name": "stdout",
     "output_type": "stream",
     "text": [
      "is_click            day  percentage_clicked\n",
      "0            1 - Monday            0.380531\n",
      "1           2 - Tuesday            0.361345\n",
      "2         3 - Wednesday            0.306452\n",
      "3          4 - Thursday            0.405172\n",
      "4            5 - Friday            0.398438\n",
      "5          6 - Saturday            0.381356\n",
      "6            7 - Sunday            0.394495\n"
     ]
    }
   ],
   "source": [
    "a_percentage_by_day = a_clicks_day_pivot[['day', 'percentage_clicked']]\n",
    "print(a_percentage_by_day)"
   ]
  },
  {
   "cell_type": "code",
   "execution_count": 20,
   "metadata": {},
   "outputs": [
    {
     "name": "stdout",
     "output_type": "stream",
     "text": [
      "is_click            day  percentage_clicked\n",
      "0            1 - Monday            0.283186\n",
      "1           2 - Tuesday            0.378151\n",
      "2         3 - Wednesday            0.282258\n",
      "3          4 - Thursday            0.250000\n",
      "4            5 - Friday            0.296875\n",
      "5          6 - Saturday            0.355932\n",
      "6            7 - Sunday            0.311927\n"
     ]
    }
   ],
   "source": [
    "b_percentage_by_day = b_clicks_day_pivot[['day', 'percentage_clicked']]\n",
    "print(b_percentage_by_day)"
   ]
  }
 ],
 "metadata": {
  "kernelspec": {
   "display_name": "Python 3 (ipykernel)",
   "language": "python",
   "name": "python3"
  },
  "language_info": {
   "codemirror_mode": {
    "name": "ipython",
    "version": 3
   },
   "file_extension": ".py",
   "mimetype": "text/x-python",
   "name": "python",
   "nbconvert_exporter": "python",
   "pygments_lexer": "ipython3",
   "version": "0.0.0"
  }
 },
 "nbformat": 4,
 "nbformat_minor": 5
}
